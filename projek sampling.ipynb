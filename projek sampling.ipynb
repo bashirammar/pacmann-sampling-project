{
 "cells": [
  {
   "cell_type": "code",
   "execution_count": 97,
   "metadata": {},
   "outputs": [
    {
     "name": "stderr",
     "output_type": "stream",
     "text": [
      "C:\\Users\\LENOVO\\anaconda3\\lib\\site-packages\\statsmodels\\compat\\pandas.py:61: FutureWarning: pandas.Int64Index is deprecated and will be removed from pandas in a future version. Use pandas.Index with the appropriate dtype instead.\n",
      "  from pandas import Int64Index as NumericIndex\n"
     ]
    }
   ],
   "source": [
    "# Load data manipulation package\n",
    "import numpy as np\n",
    "import pandas as pd\n",
    "\n",
    "# Load data visualization package\n",
    "import matplotlib.pyplot as plt\n",
    "import seaborn as sns\n",
    "\n",
    "# Load statistic package\n",
    "from scipy import stats\n",
    "import math\n",
    "from pylab import * # untuk melihat hasil korelasi\n",
    "from sklearn.linear_model import LinearRegression\n",
    "from sklearn.metrics import r2_score\n",
    "import statsmodels.api as sm"
   ]
  },
  {
   "cell_type": "code",
   "execution_count": 61,
   "metadata": {},
   "outputs": [],
   "source": [
    "data = pd.read_excel('data_perokok_tb.xlsx')"
   ]
  },
  {
   "cell_type": "code",
   "execution_count": 62,
   "metadata": {},
   "outputs": [
    {
     "data": {
      "text/html": [
       "<div>\n",
       "<style scoped>\n",
       "    .dataframe tbody tr th:only-of-type {\n",
       "        vertical-align: middle;\n",
       "    }\n",
       "\n",
       "    .dataframe tbody tr th {\n",
       "        vertical-align: top;\n",
       "    }\n",
       "\n",
       "    .dataframe thead th {\n",
       "        text-align: right;\n",
       "    }\n",
       "</style>\n",
       "<table border=\"1\" class=\"dataframe\">\n",
       "  <thead>\n",
       "    <tr style=\"text-align: right;\">\n",
       "      <th></th>\n",
       "      <th>kota</th>\n",
       "      <th>penduduk</th>\n",
       "      <th>perokok</th>\n",
       "      <th>tb</th>\n",
       "    </tr>\n",
       "  </thead>\n",
       "  <tbody>\n",
       "    <tr>\n",
       "      <th>0</th>\n",
       "      <td>KEPULAUAN SERIBU</td>\n",
       "      <td>29230</td>\n",
       "      <td>4094.8150</td>\n",
       "      <td>29</td>\n",
       "    </tr>\n",
       "    <tr>\n",
       "      <th>1</th>\n",
       "      <td>JAKARTA BARAT</td>\n",
       "      <td>2569462</td>\n",
       "      <td>387218.7425</td>\n",
       "      <td>4462</td>\n",
       "    </tr>\n",
       "    <tr>\n",
       "      <th>2</th>\n",
       "      <td>JAKARTA PUSAT</td>\n",
       "      <td>1153399</td>\n",
       "      <td>165788.9851</td>\n",
       "      <td>6670</td>\n",
       "    </tr>\n",
       "    <tr>\n",
       "      <th>3</th>\n",
       "      <td>JAKARTA SELATAN</td>\n",
       "      <td>2367002</td>\n",
       "      <td>345932.2550</td>\n",
       "      <td>4207</td>\n",
       "    </tr>\n",
       "    <tr>\n",
       "      <th>4</th>\n",
       "      <td>JAKARTA TIMUR</td>\n",
       "      <td>3234003</td>\n",
       "      <td>474220.0932</td>\n",
       "      <td>4126</td>\n",
       "    </tr>\n",
       "    <tr>\n",
       "      <th>5</th>\n",
       "      <td>JAKARTA UTARA</td>\n",
       "      <td>1843537</td>\n",
       "      <td>273636.4059</td>\n",
       "      <td>2662</td>\n",
       "    </tr>\n",
       "  </tbody>\n",
       "</table>\n",
       "</div>"
      ],
      "text/plain": [
       "               kota  penduduk      perokok    tb\n",
       "0  KEPULAUAN SERIBU     29230    4094.8150    29\n",
       "1     JAKARTA BARAT   2569462  387218.7425  4462\n",
       "2     JAKARTA PUSAT   1153399  165788.9851  6670\n",
       "3   JAKARTA SELATAN   2367002  345932.2550  4207\n",
       "4     JAKARTA TIMUR   3234003  474220.0932  4126\n",
       "5     JAKARTA UTARA   1843537  273636.4059  2662"
      ]
     },
     "execution_count": 62,
     "metadata": {},
     "output_type": "execute_result"
    }
   ],
   "source": [
    "data"
   ]
  },
  {
   "cell_type": "code",
   "execution_count": 63,
   "metadata": {},
   "outputs": [
    {
     "name": "stdout",
     "output_type": "stream",
     "text": [
      "<class 'pandas.core.frame.DataFrame'>\n",
      "RangeIndex: 6 entries, 0 to 5\n",
      "Data columns (total 4 columns):\n",
      " #   Column    Non-Null Count  Dtype  \n",
      "---  ------    --------------  -----  \n",
      " 0   kota      6 non-null      object \n",
      " 1   penduduk  6 non-null      int64  \n",
      " 2   perokok   6 non-null      float64\n",
      " 3   tb        6 non-null      int64  \n",
      "dtypes: float64(1), int64(2), object(1)\n",
      "memory usage: 320.0+ bytes\n"
     ]
    }
   ],
   "source": [
    "data.info()"
   ]
  },
  {
   "cell_type": "code",
   "execution_count": 64,
   "metadata": {},
   "outputs": [],
   "source": [
    "data['perokok'] = [math.ceil(i) for i in data['perokok']]"
   ]
  },
  {
   "cell_type": "code",
   "execution_count": 65,
   "metadata": {},
   "outputs": [],
   "source": [
    "data['perokok'] = data['perokok'].apply(np.int64)"
   ]
  },
  {
   "cell_type": "code",
   "execution_count": 66,
   "metadata": {},
   "outputs": [
    {
     "name": "stdout",
     "output_type": "stream",
     "text": [
      "<class 'pandas.core.frame.DataFrame'>\n",
      "RangeIndex: 6 entries, 0 to 5\n",
      "Data columns (total 4 columns):\n",
      " #   Column    Non-Null Count  Dtype \n",
      "---  ------    --------------  ----- \n",
      " 0   kota      6 non-null      object\n",
      " 1   penduduk  6 non-null      int64 \n",
      " 2   perokok   6 non-null      int64 \n",
      " 3   tb        6 non-null      int64 \n",
      "dtypes: int64(3), object(1)\n",
      "memory usage: 320.0+ bytes\n"
     ]
    }
   ],
   "source": [
    "data.info()"
   ]
  },
  {
   "cell_type": "code",
   "execution_count": 67,
   "metadata": {},
   "outputs": [
    {
     "data": {
      "text/html": [
       "<div>\n",
       "<style scoped>\n",
       "    .dataframe tbody tr th:only-of-type {\n",
       "        vertical-align: middle;\n",
       "    }\n",
       "\n",
       "    .dataframe tbody tr th {\n",
       "        vertical-align: top;\n",
       "    }\n",
       "\n",
       "    .dataframe thead th {\n",
       "        text-align: right;\n",
       "    }\n",
       "</style>\n",
       "<table border=\"1\" class=\"dataframe\">\n",
       "  <thead>\n",
       "    <tr style=\"text-align: right;\">\n",
       "      <th></th>\n",
       "      <th>penduduk</th>\n",
       "      <th>perokok</th>\n",
       "      <th>tb</th>\n",
       "    </tr>\n",
       "  </thead>\n",
       "  <tbody>\n",
       "    <tr>\n",
       "      <th>penduduk</th>\n",
       "      <td>1.000000</td>\n",
       "      <td>0.999631</td>\n",
       "      <td>0.478306</td>\n",
       "    </tr>\n",
       "    <tr>\n",
       "      <th>perokok</th>\n",
       "      <td>0.999631</td>\n",
       "      <td>1.000000</td>\n",
       "      <td>0.470652</td>\n",
       "    </tr>\n",
       "    <tr>\n",
       "      <th>tb</th>\n",
       "      <td>0.478306</td>\n",
       "      <td>0.470652</td>\n",
       "      <td>1.000000</td>\n",
       "    </tr>\n",
       "  </tbody>\n",
       "</table>\n",
       "</div>"
      ],
      "text/plain": [
       "          penduduk   perokok        tb\n",
       "penduduk  1.000000  0.999631  0.478306\n",
       "perokok   0.999631  1.000000  0.470652\n",
       "tb        0.478306  0.470652  1.000000"
      ]
     },
     "execution_count": 67,
     "metadata": {},
     "output_type": "execute_result"
    }
   ],
   "source": [
    "# check data correlation\n",
    "\n",
    "data.corr()"
   ]
  },
  {
   "cell_type": "code",
   "execution_count": 98,
   "metadata": {},
   "outputs": [
    {
     "data": {
      "image/png": "[encoded data removed]",
      "text/plain": [
       "<Figure size 432x360 with 1 Axes>"
      ]
     },
     "metadata": {
      "needs_background": "light"
     },
     "output_type": "display_data"
    }
   ],
   "source": [
    "# membuat garis korelasi\n",
    "(m, b) = polyfit(data['perokok'], data['tb'], 1)\n",
    "yp = np.polyval([m, b], data['perokok'])\n",
    "\n",
    "fig, ax = plt.subplots(nrows=1, ncols=1, figsize=(6, 5))\n",
    "\n",
    "# scatter plot\n",
    "ax.scatter(data['perokok'], data['tb'], marker=\"x\", color=\"blue\")\n",
    "\n",
    "# plot korelasi\n",
    "ax.plot(data['perokok'], yp, color=\"yellow\")\n",
    "\n",
    "ax.set_xlabel(\"x\")\n",
    "ax.set_ylabel(\"y\")\n",
    "\n",
    "plt.show()"
   ]
  },
  {
   "cell_type": "code",
   "execution_count": 99,
   "metadata": {},
   "outputs": [
    {
     "name": "stdout",
     "output_type": "stream",
     "text": [
      "Y = 1999.1 + 0.006155 X\n",
      "\n"
     ]
    },
    {
     "name": "stderr",
     "output_type": "stream",
     "text": [
      "C:\\Users\\LENOVO\\anaconda3\\lib\\site-packages\\statsmodels\\stats\\stattools.py:74: ValueWarning: omni_normtest is not valid with less than 8 observations; 6 samples were given.\n",
      "  warn(\"omni_normtest is not valid with less than 8 observations; %i \"\n"
     ]
    },
    {
     "name": "stdout",
     "output_type": "stream",
     "text": [
      "                            OLS Regression Results                            \n",
      "==============================================================================\n",
      "Dep. Variable:                      y   R-squared:                       0.222\n",
      "Model:                            OLS   Adj. R-squared:                  0.027\n",
      "Method:                 Least Squares   F-statistic:                     1.138\n",
      "Date:                Wed, 05 Apr 2023   Prob (F-statistic):              0.346\n",
      "Time:                        14:19:30   Log-Likelihood:                -53.417\n",
      "No. Observations:                   6   AIC:                             110.8\n",
      "Df Residuals:                       4   BIC:                             110.4\n",
      "Df Model:                           1                                         \n",
      "Covariance Type:            nonrobust                                         \n",
      "==============================================================================\n",
      "                 coef    std err          t      P>|t|      [0.025      0.975]\n",
      "------------------------------------------------------------------------------\n",
      "const       1999.1251   1819.656      1.099      0.334   -3053.051    7051.301\n",
      "x1             0.0062      0.006      1.067      0.346      -0.010       0.022\n",
      "==============================================================================\n",
      "Omnibus:                          nan   Durbin-Watson:                   1.613\n",
      "Prob(Omnibus):                    nan   Jarque-Bera (JB):                1.357\n",
      "Skew:                           1.159   Prob(JB):                        0.507\n",
      "Kurtosis:                       3.243   Cond. No.                     6.45e+05\n",
      "==============================================================================\n",
      "\n",
      "Notes:\n",
      "[1] Standard Errors assume that the covariance matrix of the errors is correctly specified.\n",
      "[2] The condition number is large, 6.45e+05. This might indicate that there are\n",
      "strong multicollinearity or other numerical problems.\n"
     ]
    }
   ],
   "source": [
    "x = data['perokok'].values.reshape(-1,1)\n",
    "y = data['tb'].values.reshape(-1,1)\n",
    "\n",
    "# menentukan persamaan regresi\n",
    "reg = LinearRegression()\n",
    "reg.fit(x, y)\n",
    "\n",
    "print(\"Y = {:.5} + {:.5} X\".format(reg.intercept_[0], reg.coef_[0][0]))\n",
    "\n",
    "print()\n",
    "\n",
    "# melihat relevansi antar variabel\n",
    "X2 = sm.add_constant(x)\n",
    "est = sm.OLS(y, X2)\n",
    "est2 = est.fit()\n",
    "print(est2.summary())"
   ]
  },
  {
   "cell_type": "code",
   "execution_count": 68,
   "metadata": {},
   "outputs": [
    {
     "data": {
      "text/plain": [
       "[0.0026106062420729517,\n",
       " 0.22948523899997436,\n",
       " 0.10301302186112557,\n",
       " 0.21140301731779546,\n",
       " 0.2888370995101831,\n",
       " 0.16465101606884855]"
      ]
     },
     "execution_count": 68,
     "metadata": {},
     "output_type": "execute_result"
    }
   ],
   "source": [
    "probas = [i/sum(data.\tpenduduk) for i in data.\tpenduduk]\n",
    "probas"
   ]
  },
  {
   "cell_type": "code",
   "execution_count": 69,
   "metadata": {},
   "outputs": [],
   "source": [
    "first_sample = np.random.choice(data.kota,4, p=probas, replace=False)"
   ]
  },
  {
   "cell_type": "code",
   "execution_count": 70,
   "metadata": {},
   "outputs": [
    {
     "data": {
      "text/html": [
       "<div>\n",
       "<style scoped>\n",
       "    .dataframe tbody tr th:only-of-type {\n",
       "        vertical-align: middle;\n",
       "    }\n",
       "\n",
       "    .dataframe tbody tr th {\n",
       "        vertical-align: top;\n",
       "    }\n",
       "\n",
       "    .dataframe thead th {\n",
       "        text-align: right;\n",
       "    }\n",
       "</style>\n",
       "<table border=\"1\" class=\"dataframe\">\n",
       "  <thead>\n",
       "    <tr style=\"text-align: right;\">\n",
       "      <th></th>\n",
       "      <th>kota</th>\n",
       "      <th>penduduk</th>\n",
       "      <th>perokok</th>\n",
       "      <th>tb</th>\n",
       "    </tr>\n",
       "  </thead>\n",
       "  <tbody>\n",
       "    <tr>\n",
       "      <th>1</th>\n",
       "      <td>JAKARTA BARAT</td>\n",
       "      <td>2569462</td>\n",
       "      <td>387219</td>\n",
       "      <td>4462</td>\n",
       "    </tr>\n",
       "    <tr>\n",
       "      <th>3</th>\n",
       "      <td>JAKARTA SELATAN</td>\n",
       "      <td>2367002</td>\n",
       "      <td>345933</td>\n",
       "      <td>4207</td>\n",
       "    </tr>\n",
       "    <tr>\n",
       "      <th>4</th>\n",
       "      <td>JAKARTA TIMUR</td>\n",
       "      <td>3234003</td>\n",
       "      <td>474221</td>\n",
       "      <td>4126</td>\n",
       "    </tr>\n",
       "    <tr>\n",
       "      <th>5</th>\n",
       "      <td>JAKARTA UTARA</td>\n",
       "      <td>1843537</td>\n",
       "      <td>273637</td>\n",
       "      <td>2662</td>\n",
       "    </tr>\n",
       "  </tbody>\n",
       "</table>\n",
       "</div>"
      ],
      "text/plain": [
       "              kota  penduduk  perokok    tb\n",
       "1    JAKARTA BARAT   2569462   387219  4462\n",
       "3  JAKARTA SELATAN   2367002   345933  4207\n",
       "4    JAKARTA TIMUR   3234003   474221  4126\n",
       "5    JAKARTA UTARA   1843537   273637  2662"
      ]
     },
     "execution_count": 70,
     "metadata": {},
     "output_type": "execute_result"
    }
   ],
   "source": [
    "first_data = data[data['kota'].isin(first_sample)]\n",
    "first_data"
   ]
  },
  {
   "cell_type": "code",
   "execution_count": 71,
   "metadata": {},
   "outputs": [],
   "source": [
    "# Total number of city\n",
    "N = 6\n",
    "# Total number of sampled lakes\n",
    "n = 4       # total number of sampled lakes\n",
    "v = 4       # unique number of sampled lakes\n",
    "\n",
    "# Selected index\n",
    "x_index_full = [0, 1, 2, 3]\n",
    "x_index_unique = [0, 1, 2, 3]\n",
    "\n",
    "# pop sizes\n",
    "pop_list = first_data.penduduk\n",
    "\n",
    "# Total size of population\n",
    "pop_tot = sum(data.penduduk)\n",
    "\n",
    "# Pollutant concentrations\n",
    "x_list = data.perokok\n"
   ]
  },
  {
   "cell_type": "code",
   "execution_count": 72,
   "metadata": {},
   "outputs": [
    {
     "data": {
      "text/plain": [
       "[0.22948523899997436,\n",
       " 0.21140301731779546,\n",
       " 0.2888370995101831,\n",
       " 0.16465101606884855]"
      ]
     },
     "execution_count": 72,
     "metadata": {},
     "output_type": "execute_result"
    }
   ],
   "source": [
    "# calculate probability of selection of unit-i\n",
    "p_list = [pop_i/pop_tot for pop_i in pop_list]\n",
    "\n",
    "p_list"
   ]
  },
  {
   "cell_type": "markdown",
   "metadata": {},
   "source": [
    "## **Estimate total and mean of the population**\n",
    "\n",
    "---"
   ]
  },
  {
   "cell_type": "markdown",
   "metadata": {},
   "source": [
    "- Using the **Horvitz-Thompson** estimator, we need to calculate the probability of choosing unit-$i$ to the sample, $p_{i}$ and the probability of inclusion, $\\pi_{i}$ first\n",
    "\n",
    "$$\n",
    "\\pi_{i} = 1 - (1 - p_{i})^{n}\n",
    "$$\n",
    "$$\n",
    "p_{i} = \\cfrac{\\text{size}_{i}}{\\text{size}_{\\text{tot}}}\n"
   ]
  },
  {
   "cell_type": "code",
   "execution_count": 73,
   "metadata": {},
   "outputs": [
    {
     "data": {
      "text/plain": [
       "[0.22948523899997436,\n",
       " 0.21140301731779546,\n",
       " 0.2888370995101831,\n",
       " 0.16465101606884855]"
      ]
     },
     "execution_count": 73,
     "metadata": {},
     "output_type": "execute_result"
    }
   ],
   "source": [
    "# calculate probability of selection of unit-i\n",
    "p_list = [pop_i/pop_tot for pop_i in pop_list]\n",
    "\n",
    "p_list"
   ]
  },
  {
   "cell_type": "code",
   "execution_count": 74,
   "metadata": {},
   "outputs": [
    {
     "name": "stdout",
     "output_type": "stream",
     "text": [
      "The inclusion probability of region\n",
      "  - reg. 1: 0.6475\n",
      "  - reg. 2: 0.6133\n",
      "  - reg. 3: 0.7442\n",
      "  - reg. 4: 0.5131\n"
     ]
    }
   ],
   "source": [
    "# calculate the probability of inclusions\n",
    "pi_list = []\n",
    "for i in range(v):\n",
    "    p_i = p_list[i]\n",
    "\n",
    "    pi_i = 1 - np.power(1-p_i, n)\n",
    "    pi_list.append(pi_i)\n",
    "\n",
    "print(\"The inclusion probability of region\")\n",
    "for i in range(v):\n",
    "    print(f\"  - reg. {i+1}: {pi_list[i]:.4f}\")"
   ]
  },
  {
   "cell_type": "markdown",
   "metadata": {},
   "source": [
    "- Next, we can calculate the total estimator \n",
    "\n",
    "$$\n",
    "\\hat{\\tau}_{p} = \\sum_{i=1}^{\\nu} \\cfrac{y_{i}}{\\pi_{i}}\n",
    "$$"
   ]
  },
  {
   "cell_type": "code",
   "execution_count": 75,
   "metadata": {},
   "outputs": [
    {
     "name": "stdout",
     "output_type": "stream",
     "text": [
      "Estimate total number of smoker  : 1534755.72 smokers\n"
     ]
    }
   ],
   "source": [
    "# calculate total smoker\n",
    "tau_hat_pi = 0\n",
    "for i in range(v):\n",
    "    x_i = x_list[x_index_unique[i]]\n",
    "    pi_i = pi_list[x_index_unique[i]]\n",
    "    \n",
    "    tau_hat_pi += x_i/pi_i\n",
    "\n",
    "print(f\"Estimate total number of smoker  : {tau_hat_pi:.2f} smokers\")"
   ]
  },
  {
   "cell_type": "markdown",
   "metadata": {},
   "source": [
    "- For the mean estimate, we can use\n",
    "\n",
    "$$\n",
    "\\hat{\\mu}_{\\pi} = \\cfrac{1}{N} \\hat{\\tau}_{\\pi}\n",
    "$$\n"
   ]
  },
  {
   "cell_type": "code",
   "execution_count": 76,
   "metadata": {},
   "outputs": [
    {
     "name": "stdout",
     "output_type": "stream",
     "text": [
      "Estimate average smokers : 255792.62 smokers\n"
     ]
    }
   ],
   "source": [
    "# calculate mean smoker in each city\n",
    "mu_hat_pi = (1/N) * tau_hat_pi\n",
    "\n",
    "print(f\"Estimate average smokers : {mu_hat_pi:.2f} smokers\")"
   ]
  },
  {
   "cell_type": "markdown",
   "metadata": {},
   "source": [
    "## **Estimate the bound on error of the estimations**\n",
    "\n",
    "---"
   ]
  },
  {
   "cell_type": "markdown",
   "metadata": {},
   "source": [
    "- To calculate the bound on error on **the Hurvitz-Thompson**, we need to calculate the variance of total estimate first.\n",
    "\n",
    "$$\n",
    "\\widehat{\\text{var}}(\\hat{\\tau}_\\pi)=\\sum\\limits_{i=1}^v \\left( \\dfrac{1-\\pi_i}{\\pi^2_i} \\right) y^2_i + \\sum\\limits_{i=1}^v \\sum\\limits_{j\\neq i} \\left( \\dfrac{\\pi_{ij}-\\pi_i \\pi_j}{\\pi_i \\pi_j}\\right)\\dfrac{1}{\\pi_{ij}} y_i y_j\n",
    "$$\n",
    "\n",
    "- with\n",
    "\n",
    "$$\n",
    "\\pi_{ij} = \\pi_{i}+\\pi_{j} - \n",
    "[1 - (1 - p_{i} - p_{j})^{n}]\n",
    "$$"
   ]
  },
  {
   "cell_type": "code",
   "execution_count": 77,
   "metadata": {},
   "outputs": [
    {
     "name": "stdout",
     "output_type": "stream",
     "text": [
      "All the joint inclusion probability of each unit\n"
     ]
    },
    {
     "data": {
      "text/html": [
       "<div>\n",
       "<style scoped>\n",
       "    .dataframe tbody tr th:only-of-type {\n",
       "        vertical-align: middle;\n",
       "    }\n",
       "\n",
       "    .dataframe tbody tr th {\n",
       "        vertical-align: top;\n",
       "    }\n",
       "\n",
       "    .dataframe thead th {\n",
       "        text-align: right;\n",
       "    }\n",
       "</style>\n",
       "<table border=\"1\" class=\"dataframe\">\n",
       "  <thead>\n",
       "    <tr style=\"text-align: right;\">\n",
       "      <th></th>\n",
       "      <th>0</th>\n",
       "      <th>1</th>\n",
       "      <th>2</th>\n",
       "      <th>3</th>\n",
       "    </tr>\n",
       "  </thead>\n",
       "  <tbody>\n",
       "    <tr>\n",
       "      <th>0</th>\n",
       "      <td>0.380738</td>\n",
       "      <td>0.358510</td>\n",
       "      <td>0.445573</td>\n",
       "      <td>0.295334</td>\n",
       "    </tr>\n",
       "    <tr>\n",
       "      <th>1</th>\n",
       "      <td>0.358510</td>\n",
       "      <td>0.337508</td>\n",
       "      <td>0.419853</td>\n",
       "      <td>0.277884</td>\n",
       "    </tr>\n",
       "    <tr>\n",
       "      <th>2</th>\n",
       "      <td>0.445573</td>\n",
       "      <td>0.419853</td>\n",
       "      <td>0.520240</td>\n",
       "      <td>0.346485</td>\n",
       "    </tr>\n",
       "    <tr>\n",
       "      <th>3</th>\n",
       "      <td>0.295334</td>\n",
       "      <td>0.277884</td>\n",
       "      <td>0.346485</td>\n",
       "      <td>0.228480</td>\n",
       "    </tr>\n",
       "  </tbody>\n",
       "</table>\n",
       "</div>"
      ],
      "text/plain": [
       "          0         1         2         3\n",
       "0  0.380738  0.358510  0.445573  0.295334\n",
       "1  0.358510  0.337508  0.419853  0.277884\n",
       "2  0.445573  0.419853  0.520240  0.346485\n",
       "3  0.295334  0.277884  0.346485  0.228480"
      ]
     },
     "execution_count": 77,
     "metadata": {},
     "output_type": "execute_result"
    }
   ],
   "source": [
    "# calculate the joint probability of inclusion (pi_ij)\n",
    "pi_joint_list = []\n",
    "for i in range(v):\n",
    "    p_i = p_list[i]\n",
    "    pi_i = pi_list[i]\n",
    "\n",
    "    pi_joint_list_i = []\n",
    "    for j in range(v):\n",
    "        p_j = p_list[j]\n",
    "        pi_j = pi_list[j]\n",
    "\n",
    "        pi_ij = pi_i + pi_j - (1 - (1 - p_i - p_j)**(n))\n",
    "        pi_joint_list_i.append(pi_ij)\n",
    "    pi_joint_list.append(pi_joint_list_i)\n",
    "\n",
    "\n",
    "print(f\"All the joint inclusion probability of each unit\")\n",
    "pd.DataFrame(pi_joint_list)"
   ]
  },
  {
   "cell_type": "markdown",
   "metadata": {},
   "source": [
    "- Finally we can calculate the variance\n",
    "\n",
    "$$\n",
    "\\widehat{\\text{var}}(\\hat{\\tau}_\\pi)=\\sum\\limits_{i=1}^v \\left( \\dfrac{1-\\pi_i}{\\pi^2_i} \\right) y^2_i + \\sum\\limits_{i=1}^v \\sum\\limits_{j\\neq i} \\left( \\dfrac{\\pi_{ij}-\\pi_i \\pi_j}{\\pi_i \\pi_j}\\right)\\dfrac{1}{\\pi_{ij}} y_i y_j\n",
    "$$"
   ]
  },
  {
   "cell_type": "code",
   "execution_count": 78,
   "metadata": {},
   "outputs": [
    {
     "name": "stdout",
     "output_type": "stream",
     "text": [
      "Estimate variance of total smokers   : (467280.47 smokers)^2\n"
     ]
    }
   ],
   "source": [
    "# calculate the first_term\n",
    "first_term = 0\n",
    "for i in range(v):\n",
    "    pi_i = pi_list[x_index_unique[i]]\n",
    "    x_i = x_list[x_index_unique[i]]\n",
    "\n",
    "    first_term += ((1-pi_i) / (pi_i**2)) * (x_i**2)\n",
    "\n",
    "# calculate the second_term \n",
    "second_term = 0\n",
    "for i in range(v):\n",
    "    pi_i = pi_list[x_index_unique[i]]\n",
    "    x_i = x_list[x_index_unique[i]]\n",
    "\n",
    "    for j in range(v):\n",
    "        if j!=i:\n",
    "            pi_ij = pi_joint_list[i][j]\n",
    "            pi_j = pi_list[x_index_unique[j]]\n",
    "            x_j = x_list[x_index_unique[j]]\n",
    "            \n",
    "            second_term += ((pi_ij - pi_i*pi_j) / (pi_i*pi_j)) * (1/(pi_ij)) * (x_i*x_j)\n",
    "\n",
    "# finally calculate the var_tau_hat_pi\n",
    "var_tau_hat_pi = first_term + second_term\n",
    "\n",
    "print(f\"Estimate variance of total smokers   : ({np.sqrt(var_tau_hat_pi):.2f} smokers)^2\")"
   ]
  },
  {
   "cell_type": "markdown",
   "metadata": {},
   "source": [
    "- Then we can calculate the variance of mean estimates\n",
    "\n",
    "$$\n",
    "\\widehat{\\text{var}}(\\hat{\\mu}_{\\pi})\n",
    "= \n",
    "\\cfrac{1}{N^{2}}\n",
    "\\widehat{\\text{var}}(\\hat{\\tau}_{\\pi})\n",
    "$$"
   ]
  },
  {
   "cell_type": "code",
   "execution_count": 79,
   "metadata": {},
   "outputs": [
    {
     "name": "stdout",
     "output_type": "stream",
     "text": [
      "Estimate variance of mean smokers   : (77880.08 ppm)^2\n"
     ]
    }
   ],
   "source": [
    "# calculate the variance\n",
    "var_mu_hat_pi = (1/(N**2)) * var_tau_hat_pi\n",
    "\n",
    "print(f\"Estimate variance of mean smokers   : ({np.sqrt(var_mu_hat_pi):.2f} ppm)^2\")"
   ]
  },
  {
   "cell_type": "markdown",
   "metadata": {},
   "source": [
    "- Further, the **bound of error** would be\n",
    "\n",
    "$$\n",
    "d = t_{1-\\alpha/2} \\sqrt{\\widehat{\\text{var}}(\\hat{\\mu})}\n",
    "$$"
   ]
  },
  {
   "cell_type": "code",
   "execution_count": 80,
   "metadata": {},
   "outputs": [
    {
     "name": "stdout",
     "output_type": "stream",
     "text": [
      "t_stat                                          : 3.18\n",
      "margin of error of total estimator (d_mu_pi)  : 1487095.00 smokers\n"
     ]
    }
   ],
   "source": [
    "# calculate z_stat @ 95% CI\n",
    "alpha = 0.05\n",
    "t_stat = stats.t.ppf(1 - alpha/2., df=v-1)\n",
    "print(f\"t_stat                                          : {t_stat:.2f}\")\n",
    "\n",
    "# calculate the margin of error (d)\n",
    "d_tau_pi = t_stat * np.sqrt(var_tau_hat_pi)\n",
    "print(f\"margin of error of total estimator (d_mu_pi)  : {d_tau_pi:.2f} smokers\")"
   ]
  },
  {
   "cell_type": "code",
   "execution_count": 81,
   "metadata": {},
   "outputs": [
    {
     "name": "stdout",
     "output_type": "stream",
     "text": [
      "The 95% CI of average smokers lies\n",
      "between 47660.72 to 3021850.72 smokers\n"
     ]
    }
   ],
   "source": [
    "# Calculate the confidence interval\n",
    "l_tau_pi = tau_hat_pi - d_tau_pi\n",
    "u_tau_pi = tau_hat_pi + d_tau_pi\n",
    "\n",
    "print(f\"The 95% CI of total smokers lies\")\n",
    "print(f\"between {l_tau_pi:.2f} to {u_tau_pi:.2f} smokers\")"
   ]
  },
  {
   "cell_type": "markdown",
   "metadata": {},
   "source": [
    "## **Estimate TB**\n",
    "\n",
    "---"
   ]
  },
  {
   "cell_type": "markdown",
   "metadata": {},
   "source": [
    "first we need to pick lest sample for second phase"
   ]
  },
  {
   "cell_type": "code",
   "execution_count": 82,
   "metadata": {},
   "outputs": [
    {
     "data": {
      "text/plain": [
       "[0.261456033382624,\n",
       " 0.2335791115522515,\n",
       " 0.3202010789933896,\n",
       " 0.18476377607173483]"
      ]
     },
     "execution_count": 82,
     "metadata": {},
     "output_type": "execute_result"
    }
   ],
   "source": [
    "probas2 = [i/sum(first_data.perokok) for i in first_data.perokok]\n",
    "probas2"
   ]
  },
  {
   "cell_type": "code",
   "execution_count": 83,
   "metadata": {},
   "outputs": [],
   "source": [
    "second_sample = np.random.choice(first_data.kota,3, p=probas2, replace=False)"
   ]
  },
  {
   "cell_type": "code",
   "execution_count": 84,
   "metadata": {},
   "outputs": [
    {
     "data": {
      "text/html": [
       "<div>\n",
       "<style scoped>\n",
       "    .dataframe tbody tr th:only-of-type {\n",
       "        vertical-align: middle;\n",
       "    }\n",
       "\n",
       "    .dataframe tbody tr th {\n",
       "        vertical-align: top;\n",
       "    }\n",
       "\n",
       "    .dataframe thead th {\n",
       "        text-align: right;\n",
       "    }\n",
       "</style>\n",
       "<table border=\"1\" class=\"dataframe\">\n",
       "  <thead>\n",
       "    <tr style=\"text-align: right;\">\n",
       "      <th></th>\n",
       "      <th>kota</th>\n",
       "      <th>penduduk</th>\n",
       "      <th>perokok</th>\n",
       "      <th>tb</th>\n",
       "    </tr>\n",
       "  </thead>\n",
       "  <tbody>\n",
       "    <tr>\n",
       "      <th>1</th>\n",
       "      <td>JAKARTA BARAT</td>\n",
       "      <td>2569462</td>\n",
       "      <td>387219</td>\n",
       "      <td>4462</td>\n",
       "    </tr>\n",
       "    <tr>\n",
       "      <th>4</th>\n",
       "      <td>JAKARTA TIMUR</td>\n",
       "      <td>3234003</td>\n",
       "      <td>474221</td>\n",
       "      <td>4126</td>\n",
       "    </tr>\n",
       "    <tr>\n",
       "      <th>5</th>\n",
       "      <td>JAKARTA UTARA</td>\n",
       "      <td>1843537</td>\n",
       "      <td>273637</td>\n",
       "      <td>2662</td>\n",
       "    </tr>\n",
       "  </tbody>\n",
       "</table>\n",
       "</div>"
      ],
      "text/plain": [
       "            kota  penduduk  perokok    tb\n",
       "1  JAKARTA BARAT   2569462   387219  4462\n",
       "4  JAKARTA TIMUR   3234003   474221  4126\n",
       "5  JAKARTA UTARA   1843537   273637  2662"
      ]
     },
     "execution_count": 84,
     "metadata": {},
     "output_type": "execute_result"
    }
   ],
   "source": [
    "second_data = data[data['kota'].isin(second_sample)]\n",
    "second_data"
   ]
  },
  {
   "cell_type": "code",
   "execution_count": 85,
   "metadata": {},
   "outputs": [
    {
     "data": {
      "text/html": [
       "<div>\n",
       "<style scoped>\n",
       "    .dataframe tbody tr th:only-of-type {\n",
       "        vertical-align: middle;\n",
       "    }\n",
       "\n",
       "    .dataframe tbody tr th {\n",
       "        vertical-align: top;\n",
       "    }\n",
       "\n",
       "    .dataframe thead th {\n",
       "        text-align: right;\n",
       "    }\n",
       "</style>\n",
       "<table border=\"1\" class=\"dataframe\">\n",
       "  <thead>\n",
       "    <tr style=\"text-align: right;\">\n",
       "      <th></th>\n",
       "      <th>penduduk</th>\n",
       "      <th>perokok</th>\n",
       "      <th>tb</th>\n",
       "    </tr>\n",
       "  </thead>\n",
       "  <tbody>\n",
       "    <tr>\n",
       "      <th>penduduk</th>\n",
       "      <td>1.000000</td>\n",
       "      <td>0.998706</td>\n",
       "      <td>0.780981</td>\n",
       "    </tr>\n",
       "    <tr>\n",
       "      <th>perokok</th>\n",
       "      <td>0.998706</td>\n",
       "      <td>1.000000</td>\n",
       "      <td>0.811731</td>\n",
       "    </tr>\n",
       "    <tr>\n",
       "      <th>tb</th>\n",
       "      <td>0.780981</td>\n",
       "      <td>0.811731</td>\n",
       "      <td>1.000000</td>\n",
       "    </tr>\n",
       "  </tbody>\n",
       "</table>\n",
       "</div>"
      ],
      "text/plain": [
       "          penduduk   perokok        tb\n",
       "penduduk  1.000000  0.998706  0.780981\n",
       "perokok   0.998706  1.000000  0.811731\n",
       "tb        0.780981  0.811731  1.000000"
      ]
     },
     "execution_count": 85,
     "metadata": {},
     "output_type": "execute_result"
    }
   ],
   "source": [
    "# check data correlation\n",
    "\n",
    "second_data.corr()"
   ]
  },
  {
   "cell_type": "code",
   "execution_count": 86,
   "metadata": {},
   "outputs": [],
   "source": [
    "x_list_2 = np.array(second_data[\"perokok\"])\n",
    "y_list = np.array(second_data[\"tb\"])\n",
    "n2 = 3"
   ]
  },
  {
   "cell_type": "markdown",
   "metadata": {},
   "source": [
    "then we calculate the sample ratio"
   ]
  },
  {
   "cell_type": "code",
   "execution_count": 87,
   "metadata": {},
   "outputs": [
    {
     "data": {
      "text/plain": [
       "0.009911221881863521"
      ]
     },
     "execution_count": 87,
     "metadata": {},
     "output_type": "execute_result"
    }
   ],
   "source": [
    "# sample ratio\n",
    "r = np.sum(y_list) / np.sum(x_list_2)\n",
    "\n",
    "r"
   ]
  },
  {
   "cell_type": "markdown",
   "metadata": {},
   "source": [
    "- After that we can find the mean of population estimator\n",
    "\n",
    "$$\n",
    "\\hat{\\mu}_r = r \\cdot \\mu_x\n",
    "$$"
   ]
  },
  {
   "cell_type": "code",
   "execution_count": 88,
   "metadata": {},
   "outputs": [
    {
     "name": "stdout",
     "output_type": "stream",
     "text": [
      "The estimate total tb : 2535.22\n"
     ]
    }
   ],
   "source": [
    "# estimate total tb\n",
    "mu_hat_r = r * mu_hat_pi\n",
    "\n",
    "print(f\"The estimate total tb : {mu_hat_r:.2f}\")"
   ]
  },
  {
   "cell_type": "markdown",
   "metadata": {},
   "source": [
    "- After that we can find the total of population estimator\n",
    "\n",
    "$$\n",
    "\\hat{\\tau}_r = N \\cdot {\\mu}_r \n",
    "$$"
   ]
  },
  {
   "cell_type": "code",
   "execution_count": 89,
   "metadata": {},
   "outputs": [
    {
     "data": {
      "text/plain": [
       "15211.304476881842"
      ]
     },
     "execution_count": 89,
     "metadata": {},
     "output_type": "execute_result"
    }
   ],
   "source": [
    "tau_hat_r = mu_hat_r * N\n",
    "tau_hat_r"
   ]
  },
  {
   "cell_type": "markdown",
   "metadata": {},
   "source": [
    "- To find the bound on error, we have to calculate the variance of mean population first.\n",
    "\n",
    "$$\n",
    "\\widehat{\\text{var}}(\\hat{\\mu}_{r})\n",
    "=\n",
    "\\left(\n",
    "\\cfrac{N-n}{N}\n",
    "\\right)\n",
    "\\cfrac{s_{r}^{2}}{n}\n",
    "$$\n",
    "\n",
    "$$\n",
    "s_{r}^{2} = \\cfrac{1}{n-1}\n",
    "\\sum_{i=1}^{n} (y_{i}-rx_{i})^{2}\n",
    "$$\n"
   ]
  },
  {
   "cell_type": "code",
   "execution_count": 90,
   "metadata": {},
   "outputs": [
    {
     "data": {
      "text/plain": [
       "240572.78840127186"
      ]
     },
     "execution_count": 90,
     "metadata": {},
     "output_type": "execute_result"
    }
   ],
   "source": [
    "# Calculate the sample variance\n",
    "s_r_square = 0\n",
    "for i in range(n2):\n",
    "    y_i = y_list[i]\n",
    "    x_i = x_list_2[i]\n",
    "    \n",
    "    s_r_square += (y_i - r*x_i)**2\n",
    "s_r_square *= 1/(n-1)\n",
    "\n",
    "s_r_square"
   ]
  },
  {
   "cell_type": "code",
   "execution_count": 91,
   "metadata": {},
   "outputs": [
    {
     "name": "stdout",
     "output_type": "stream",
     "text": [
      "The variance of average mock final score    : (141.59)^2\n"
     ]
    }
   ],
   "source": [
    "# Calculate the variance of estimators\n",
    "var_mu_hat_r = ((N-n)/N) * (s_r_square/n)\n",
    "\n",
    "print(f\"The variance of average mock final score    : ({np.sqrt(var_mu_hat_r):.2f})^2\")\n"
   ]
  },
  {
   "cell_type": "markdown",
   "metadata": {},
   "source": [
    "- Next we use this formula to find variance of total population estimator.\n",
    "\n",
    "$$\n",
    "\\widehat{\\text{var}}(\\hat{\\tau}_{r}) = N^2 \\cdot {\\text{var}}(\\hat{\\mu}_{r})\n",
    "$$"
   ]
  },
  {
   "cell_type": "code",
   "execution_count": 92,
   "metadata": {},
   "outputs": [],
   "source": [
    "# calculate var of total population\n",
    "var_tau_hat_r = N**2*var_mu_hat_r"
   ]
  },
  {
   "cell_type": "markdown",
   "metadata": {},
   "source": [
    "- Next, the **bound of error** would be\n",
    "\n",
    "$$\n",
    "d = t_{\\alpha/2} \\sqrt{\\widehat{\\text{var}}(\\hat{\\mu})}\n",
    "$$"
   ]
  },
  {
   "cell_type": "code",
   "execution_count": 93,
   "metadata": {},
   "outputs": [
    {
     "name": "stdout",
     "output_type": "stream",
     "text": [
      "t_stat                                       : 3.18\n",
      "margin of error of total estimator (d_tau_p)  : 2703.62\n"
     ]
    }
   ],
   "source": [
    "# calculate z_stat @ 95% CI\n",
    "alpha = 0.05\n",
    "t_stat = stats.t.ppf(1 - alpha/2., df=n-1)\n",
    "print(f\"t_stat                                       : {t_stat:.2f}\")\n",
    "\n",
    "# calculate the margin of error (d)\n",
    "d_tau_r = t_stat * np.sqrt(var_tau_hat_r)\n",
    "print(f\"margin of error of total estimator (d_tau_p)  : {d_tau_r:.2f}\")\n"
   ]
  },
  {
   "cell_type": "code",
   "execution_count": 94,
   "metadata": {},
   "outputs": [
    {
     "name": "stdout",
     "output_type": "stream",
     "text": [
      "The 95% CI of toal TB is \n",
      "between 12508 to 17915\n"
     ]
    }
   ],
   "source": [
    "# Calculate the confidence interval\n",
    "l_tau_r = tau_hat_r - d_tau_r\n",
    "u_tau_r = tau_hat_r + d_tau_r\n",
    "\n",
    "print(f\"The 95% CI of toal TB is \")\n",
    "print(f\"between {l_tau_r:.0f} to {u_tau_r:.0f}\")"
   ]
  },
  {
   "cell_type": "code",
   "execution_count": null,
   "metadata": {},
   "outputs": [],
   "source": []
  },
  {
   "cell_type": "code",
   "execution_count": null,
   "metadata": {},
   "outputs": [],
   "source": []
  },
  {
   "cell_type": "code",
   "execution_count": 524,
   "metadata": {},
   "outputs": [],
   "source": [
    "n2 = 3"
   ]
  },
  {
   "cell_type": "code",
   "execution_count": 525,
   "metadata": {},
   "outputs": [
    {
     "data": {
      "text/plain": [
       "[0.34113897118873876, 0.4177875157368178, 0.2410735130744434]"
      ]
     },
     "execution_count": 525,
     "metadata": {},
     "output_type": "execute_result"
    }
   ],
   "source": [
    "# Calculate p_i\n",
    "p_list2 = []\n",
    "for i in range(n2):\n",
    "    x_i = x_list_2[i]\n",
    "    p_i = x_i / np.sum(x_list_2)\n",
    "\n",
    "    p_list2.append(p_i)\n",
    "\n",
    "p_list2"
   ]
  },
  {
   "cell_type": "code",
   "execution_count": 526,
   "metadata": {},
   "outputs": [
    {
     "data": {
      "text/plain": [
       "[0.8115590520358922, 0.8850984056886819, 0.6682592357985521]"
      ]
     },
     "execution_count": 526,
     "metadata": {},
     "output_type": "execute_result"
    }
   ],
   "source": [
    "# Calculate pi_i\n",
    "pi_list = []\n",
    "for i in range(n2):\n",
    "    p_i = p_list2[i]\n",
    "\n",
    "    pi_i = 1 - np.power(1-p_i, n)\n",
    "    pi_list.append(pi_i)\n",
    "\n",
    "pi_list"
   ]
  },
  {
   "cell_type": "code",
   "execution_count": 527,
   "metadata": {},
   "outputs": [
    {
     "data": {
      "text/plain": [
       "14143.172146619494"
      ]
     },
     "execution_count": 527,
     "metadata": {},
     "output_type": "execute_result"
    }
   ],
   "source": [
    "# Find total number job demands in 2023 from samples\n",
    "tau_hat_y = 0\n",
    "for i in range(n2):\n",
    "    y_i = y_list[i]\n",
    "    pi_i = pi_list[i]\n",
    "\n",
    "    tau_hat_y += y_i/pi_i\n",
    "\n",
    "tau_hat_y"
   ]
  },
  {
   "cell_type": "code",
   "execution_count": null,
   "metadata": {},
   "outputs": [],
   "source": []
  },
  {
   "cell_type": "code",
   "execution_count": 528,
   "metadata": {},
   "outputs": [
    {
     "data": {
      "text/plain": [
       "1422390.4710705443"
      ]
     },
     "execution_count": 528,
     "metadata": {},
     "output_type": "execute_result"
    }
   ],
   "source": [
    "# Find total number job demands in 2021 from samples\n",
    "tau_hat_x = 0\n",
    "for i in range(n_2):\n",
    "    x_i = x_list_2[i]\n",
    "    pi_i = pi_list[i]\n",
    "\n",
    "    tau_hat_x += x_i/pi_i\n",
    "\n",
    "tau_hat_x"
   ]
  },
  {
   "cell_type": "code",
   "execution_count": 529,
   "metadata": {},
   "outputs": [
    {
     "name": "stdout",
     "output_type": "stream",
     "text": [
      "The number of TB : 12934.82\n"
     ]
    }
   ],
   "source": [
    "# Find estimate of total number job demands in 2023\n",
    "tau_hat_G = (tau_hat_y/tau_hat_x) * sum(first_data['perokok'])\n",
    "\n",
    "print(f\"The number of TB : {tau_hat_G:.2f}\")"
   ]
  },
  {
   "cell_type": "code",
   "execution_count": 530,
   "metadata": {},
   "outputs": [
    {
     "data": {
      "text/plain": [
       "0.009943241630390573"
      ]
     },
     "execution_count": 530,
     "metadata": {},
     "output_type": "execute_result"
    }
   ],
   "source": [
    "# Calculate R_hat\n",
    "R_hat = tau_hat_y / tau_hat_x\n",
    "R_hat"
   ]
  },
  {
   "cell_type": "code",
   "execution_count": 531,
   "metadata": {},
   "outputs": [
    {
     "data": {
      "text/plain": [
       "[4421.282425523551, 275.7879191217926, 1013.5199133391773]"
      ]
     },
     "execution_count": 531,
     "metadata": {},
     "output_type": "execute_result"
    }
   ],
   "source": [
    "# Calculate y_hat_list\n",
    "y_hat_list = []\n",
    "for i in range(n2):\n",
    "    y_i = y_list[i]\n",
    "    x_i = x_list[i]\n",
    "    y_hat_i = y_i - R_hat*x_i\n",
    "\n",
    "    y_hat_list.append(y_hat_i)\n",
    "\n",
    "y_hat_list"
   ]
  },
  {
   "cell_type": "code",
   "execution_count": 532,
   "metadata": {},
   "outputs": [
    {
     "data": {
      "text/plain": [
       "6367070.626258671"
      ]
     },
     "execution_count": 532,
     "metadata": {},
     "output_type": "execute_result"
    }
   ],
   "source": [
    "# Calculate the first term\n",
    "first_term = 0\n",
    "for i in range(n2):\n",
    "    pi_i = pi_list[i]\n",
    "    y_hat_i = y_hat_list[i]\n",
    "\n",
    "    first_term += ((1/(pi_i**2)) - (1/pi_i)) * (y_hat_i**2)\n",
    "first_term"
   ]
  },
  {
   "cell_type": "code",
   "execution_count": 533,
   "metadata": {},
   "outputs": [
    {
     "data": {
      "text/plain": [
       "-1167417.534973843"
      ]
     },
     "execution_count": 533,
     "metadata": {},
     "output_type": "execute_result"
    }
   ],
   "source": [
    "# Calculate the second term\n",
    "second_term = 0\n",
    "for i in range(n2):\n",
    "    pi_i = pi_list[i]\n",
    "    p_i = p_list[i]\n",
    "    y_hat_i = y_hat_list[i]\n",
    "\n",
    "    for j in range(n2):\n",
    "        if j!=i:\n",
    "            pi_j = pi_list[j]\n",
    "            p_j = p_list[j]\n",
    "            y_hat_j = y_hat_list[j]\n",
    "\n",
    "            # calculate joint inclusion probability (pi_ij)\n",
    "            pi_ij = pi_i+pi_j - (1 - np.power(1-p_i-p_j, n))\n",
    "\n",
    "            # sum\n",
    "            second_term += ((1/(pi_i*pi_j)) - (1/pi_ij)) * (y_hat_i*y_hat_j)\n",
    "\n",
    "second_term"
   ]
  },
  {
   "cell_type": "code",
   "execution_count": 534,
   "metadata": {},
   "outputs": [
    {
     "name": "stdout",
     "output_type": "stream",
     "text": [
      "The variance of total job demands in 2023    : (2280.27)^2\n"
     ]
    }
   ],
   "source": [
    "# Calculate the variance of estimators\n",
    "var_tau_hat_G = first_term + second_term\n",
    "\n",
    "print(f\"The variance of total job demands in 2023    : ({np.sqrt(var_tau_hat_G):.2f})^2\")\n"
   ]
  },
  {
   "cell_type": "code",
   "execution_count": 535,
   "metadata": {},
   "outputs": [
    {
     "name": "stdout",
     "output_type": "stream",
     "text": [
      "t_stat                                         : 3.18\n",
      "margin of error of total estimator (d_tau_G)   : 7256.85\n"
     ]
    }
   ],
   "source": [
    "# calculate z_stat @ 95% CI\n",
    "alpha = 0.05\n",
    "t_stat = stats.t.ppf(1 - alpha/2., df=n-1)\n",
    "print(f\"t_stat                                         : {t_stat:.2f}\")\n",
    "\n",
    "# calculate the margin of error (d)\n",
    "d_tau_G = t_stat * np.sqrt(var_tau_hat_G)\n",
    "print(f\"margin of error of total estimator (d_tau_G)   : {d_tau_G:.2f}\")\n"
   ]
  },
  {
   "cell_type": "code",
   "execution_count": 536,
   "metadata": {},
   "outputs": [
    {
     "name": "stdout",
     "output_type": "stream",
     "text": [
      "The 95% CI of total TB is \n",
      "between 5678 to 20192\n"
     ]
    }
   ],
   "source": [
    "# Calculate the confidence interval\n",
    "l_tau_G = tau_hat_G - d_tau_G\n",
    "u_tau_G = tau_hat_G + d_tau_G\n",
    "\n",
    "print(f\"The 95% CI of total TB is \")\n",
    "print(f\"between {l_tau_G:.0f} to {u_tau_G:.0f}\")"
   ]
  },
  {
   "cell_type": "code",
   "execution_count": null,
   "metadata": {},
   "outputs": [],
   "source": []
  },
  {
   "cell_type": "code",
   "execution_count": null,
   "metadata": {},
   "outputs": [],
   "source": []
  },
  {
   "cell_type": "code",
   "execution_count": 430,
   "metadata": {},
   "outputs": [
    {
     "data": {
      "text/plain": [
       "6889986.876859106"
      ]
     },
     "execution_count": 430,
     "metadata": {},
     "output_type": "execute_result"
    }
   ],
   "source": [
    "# Calculate the sample variance\n",
    "s_r_square = 0\n",
    "for i in range(n_2):\n",
    "    y_i = y_list[i]\n",
    "    x_i = x_list[i]\n",
    "    \n",
    "    s_r_square += (y_i - r*x_i)**2\n",
    "s_r_square *= 1/(n-1)\n",
    "\n",
    "s_r_square"
   ]
  },
  {
   "cell_type": "code",
   "execution_count": 431,
   "metadata": {},
   "outputs": [
    {
     "name": "stdout",
     "output_type": "stream",
     "text": [
      "The variance of average price of products on Jan '23    : ($ 757.74)^2\n"
     ]
    }
   ],
   "source": [
    "# Calculate the variance of estimators\n",
    "var_mu_hat_r = ((N-n)/N) * (s_r_square/n)\n",
    "\n",
    "print(f\"The variance of average price of products on Jan '23    : ($ {np.sqrt(var_mu_hat_r):.2f})^2\")\n"
   ]
  },
  {
   "cell_type": "code",
   "execution_count": null,
   "metadata": {},
   "outputs": [],
   "source": []
  }
 ],
 "metadata": {
  "interpreter": {
   "hash": "37eb40c3388cfde35488e2d005b0d69ca91ddeff8a429754d4da636d3f888e5e"
  },
  "kernelspec": {
   "display_name": "Python 3.8.12 ('base')",
   "language": "python",
   "name": "python3"
  },
  "language_info": {
   "codemirror_mode": {
    "name": "ipython",
    "version": 3
   },
   "file_extension": ".py",
   "mimetype": "text/x-python",
   "name": "python",
   "nbconvert_exporter": "python",
   "pygments_lexer": "ipython3",
   "version": "3.8.12"
  },
  "orig_nbformat": 4
 },
 "nbformat": 4,
 "nbformat_minor": 2
}
